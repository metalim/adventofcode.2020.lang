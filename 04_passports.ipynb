{
 "nbformat": 4,
 "nbformat_minor": 2,
 "metadata": {
  "language_info": {
   "name": "python",
   "codemirror_mode": {
    "name": "ipython",
    "version": 3
   },
   "version": "3.9.0-final"
  },
  "orig_nbformat": 2,
  "file_extension": ".py",
  "mimetype": "text/x-python",
  "name": "python",
  "npconvert_exporter": "python",
  "pygments_lexer": "ipython3",
  "version": 3,
  "kernelspec": {
   "name": "python3",
   "display_name": "Python 3.9.0 64-bit",
   "metadata": {
    "interpreter": {
     "hash": "fb50a28a6949eb9d155aaf863d5b48c1761333e8ec64a40a331f301d808d6832"
    }
   }
  }
 },
 "cells": [
  {
   "cell_type": "code",
   "execution_count": 1,
   "metadata": {},
   "outputs": [],
   "source": [
    "import re\n",
    "\n",
    "with open('inputs/04.txt') as file:\n",
    "    input = file.read()\n",
    "\n",
    "rs = input.split('\\n\\n')\n",
    "ps = [{k:v for k,v in re.findall(r'(\\S+):(\\S+)', r)} for r in rs]\n"
   ]
  },
  {
   "cell_type": "code",
   "execution_count": 2,
   "metadata": {},
   "outputs": [
    {
     "output_type": "stream",
     "name": "stdout",
     "text": [
      "Wall time: 0 ns\n"
     ]
    },
    {
     "output_type": "execute_result",
     "data": {
      "text/plain": [
       "206"
      ]
     },
     "metadata": {},
     "execution_count": 2
    }
   ],
   "source": [
    "%%time\n",
    "\n",
    "reqs = set(('byr','iyr','eyr','hgt','hcl','ecl','pid'))\n",
    "\n",
    "def isValid1(p):\n",
    "    for req in reqs:\n",
    "        if req not in p:\n",
    "            return False\n",
    "    return True\n",
    "\n",
    "valid=0\n",
    "for p in ps:\n",
    "    if isValid1(p):\n",
    "        valid+=1\n",
    "    \n",
    "valid"
   ]
  },
  {
   "cell_type": "code",
   "execution_count": 3,
   "metadata": {},
   "outputs": [
    {
     "output_type": "stream",
     "name": "stdout",
     "text": [
      "Wall time: 2 ms\n"
     ]
    },
    {
     "output_type": "execute_result",
     "data": {
      "text/plain": [
       "123"
      ]
     },
     "metadata": {},
     "execution_count": 3
    }
   ],
   "source": [
    "%%time\n",
    "\n",
    "ecls = set(('amb', 'blu', 'brn', 'gry', 'grn', 'hzl', 'oth'))\n",
    "\n",
    "def isValid2(p):\n",
    "    if not isValid1(p): return False\n",
    "    \n",
    "    byr = int(p['byr'])\n",
    "    if not 1920<=byr<=2002: return False\n",
    "\n",
    "    iyr = int(p['iyr'])\n",
    "    if not 2010<=iyr<=2020: return False\n",
    "\n",
    "    eyr = int(p['eyr'])\n",
    "    if not 2020<=eyr<=2030: return False\n",
    "\n",
    "    m = re.match(r'(\\d+)(\\w+)$', p['hgt'])\n",
    "    if not m: return False\n",
    "    hgt = int(m.group(1))\n",
    "    if m.group(2)=='cm':\n",
    "        if not 150<=hgt<=193: return False\n",
    "    elif m.group(2)=='in':\n",
    "        if not 59<=hgt<=76: return False\n",
    "    else:\n",
    "        return False\n",
    "\n",
    "    if not re.match(r'#[0-9a-f]{6}$', p['hcl']): return False\n",
    "\n",
    "    if p['ecl'] not in ecls: return False\n",
    "\n",
    "    if not re.match(r'\\d{9}$', p['pid']): return False\n",
    "\n",
    "    return True\n",
    "\n",
    "valid = 0\n",
    "for p in ps:\n",
    "    if isValid2(p):\n",
    "        valid += 1\n",
    "\n",
    "valid\n"
   ]
  }
 ]
}