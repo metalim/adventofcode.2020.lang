{
 "nbformat": 4,
 "nbformat_minor": 2,
 "metadata": {
  "language_info": {
   "name": "python",
   "codemirror_mode": {
    "name": "ipython",
    "version": 3
   },
   "version": "3.9.1-final"
  },
  "orig_nbformat": 2,
  "file_extension": ".py",
  "mimetype": "text/x-python",
  "name": "python",
  "npconvert_exporter": "python",
  "pygments_lexer": "ipython3",
  "version": 3,
  "kernelspec": {
   "name": "python3",
   "display_name": "Python 3.9.1 64-bit",
   "metadata": {
    "interpreter": {
     "hash": "fb50a28a6949eb9d155aaf863d5b48c1761333e8ec64a40a331f301d808d6832"
    }
   }
  }
 },
 "cells": [
  {
   "cell_type": "code",
   "execution_count": 1,
   "metadata": {},
   "outputs": [
    {
     "output_type": "stream",
     "name": "stdout",
     "text": [
      "Wall time: 0 ns\n"
     ]
    }
   ],
   "source": [
    "%%time\n",
    "\n",
    "with open('../inputs/15.txt') as file:\n",
    "    lines = file.read().splitlines()\n",
    "\n",
    "ns = [int(i) for i in lines[0].split(',')]\n"
   ]
  },
  {
   "cell_type": "code",
   "execution_count": 2,
   "metadata": {},
   "outputs": [
    {
     "output_type": "stream",
     "name": "stdout",
     "text": [
      "Total numbers: 383\nLast included: False\nWall time: 998 µs\n"
     ]
    },
    {
     "output_type": "execute_result",
     "data": {
      "text/plain": [
       "866"
      ]
     },
     "metadata": {},
     "execution_count": 2
    }
   ],
   "source": [
    "%%time\n",
    "\n",
    "def getLast(ns,k):\n",
    "    mem = {}\n",
    "    last = -1\n",
    "\n",
    "    for i,n in enumerate(ns):\n",
    "        mem[last]=i\n",
    "        last = n\n",
    "\n",
    "    for i in range(i+1,k):\n",
    "        try:\n",
    "            mem[last], last = i, i-mem[last]\n",
    "        except:\n",
    "            mem[last], last = i, 0\n",
    "\n",
    "    print('Total numbers:', len(mem))\n",
    "    print('Last included:', last in mem)\n",
    "    return last\n",
    "\n",
    "getLast(ns,2020)\n"
   ]
  },
  {
   "cell_type": "code",
   "execution_count": 3,
   "metadata": {},
   "outputs": [
    {
     "output_type": "stream",
     "name": "stdout",
     "text": [
      "Total numbers: 3611632\n",
      "Last included: False\n",
      "Wall time: 7.08 s\n"
     ]
    },
    {
     "output_type": "execute_result",
     "data": {
      "text/plain": [
       "1437692"
      ]
     },
     "metadata": {},
     "execution_count": 3
    }
   ],
   "source": [
    "%%time\n",
    "\n",
    "getLast(ns,30_000_000)\n"
   ]
  }
 ]
}