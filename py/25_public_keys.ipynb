{
 "nbformat": 4,
 "nbformat_minor": 2,
 "metadata": {
  "language_info": {
   "name": "python",
   "codemirror_mode": {
    "name": "ipython",
    "version": 3
   },
   "version": "3.9.1-final"
  },
  "orig_nbformat": 2,
  "file_extension": ".py",
  "mimetype": "text/x-python",
  "name": "python",
  "npconvert_exporter": "python",
  "pygments_lexer": "ipython3",
  "version": 3,
  "kernelspec": {
   "name": "python3",
   "display_name": "Python 3.9.1 64-bit",
   "metadata": {
    "interpreter": {
     "hash": "fb50a28a6949eb9d155aaf863d5b48c1761333e8ec64a40a331f301d808d6832"
    }
   }
  }
 },
 "cells": [
  {
   "cell_type": "code",
   "execution_count": 1,
   "metadata": {},
   "outputs": [
    {
     "output_type": "stream",
     "name": "stdout",
     "text": [
      "Wall time: 0 ns\n"
     ]
    },
    {
     "output_type": "execute_result",
     "data": {
      "text/plain": [
       "[17773298, 15530095]"
      ]
     },
     "metadata": {},
     "execution_count": 1
    }
   ],
   "source": [
    "%%time\n",
    "\n",
    "with open('../inputs/25.txt') as file:\n",
    "    lines = list(map(int,file.read().splitlines()))\n",
    "\n",
    "lines\n"
   ]
  },
  {
   "cell_type": "code",
   "execution_count": 2,
   "metadata": {},
   "outputs": [
    {
     "output_type": "stream",
     "name": "stdout",
     "text": [
      "17980581\n",
      "17980581\n",
      "Wall time: 3.56 s\n"
     ]
    }
   ],
   "source": [
    "%%time\n",
    "\n",
    "def findLoopSize(n):\n",
    "    i = 0\n",
    "    x = 1\n",
    "    while x != n:\n",
    "        i += 1\n",
    "        x = x*7%20201227\n",
    "    return i\n",
    "\n",
    "def getEncryptionKey(ls,b):\n",
    "    x = 1\n",
    "    for i in range(ls):\n",
    "        x = x*b%20201227\n",
    "    return x\n",
    "\n",
    "print(getEncryptionKey(findLoopSize(lines[0]),lines[1]))\n",
    "print(getEncryptionKey(findLoopSize(lines[1]),lines[0]))\n"
   ]
  }
 ]
}