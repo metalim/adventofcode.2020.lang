{
 "nbformat": 4,
 "nbformat_minor": 2,
 "metadata": {
  "language_info": {
   "name": "python",
   "codemirror_mode": {
    "name": "ipython",
    "version": 3
   },
   "version": "3.9.1-final"
  },
  "orig_nbformat": 2,
  "file_extension": ".py",
  "mimetype": "text/x-python",
  "name": "python",
  "npconvert_exporter": "python",
  "pygments_lexer": "ipython3",
  "version": 3,
  "kernelspec": {
   "name": "python3",
   "display_name": "Python 3.9.1 64-bit",
   "metadata": {
    "interpreter": {
     "hash": "fb50a28a6949eb9d155aaf863d5b48c1761333e8ec64a40a331f301d808d6832"
    }
   }
  }
 },
 "cells": [
  {
   "cell_type": "code",
   "execution_count": 1,
   "metadata": {},
   "outputs": [
    {
     "output_type": "stream",
     "name": "stdout",
     "text": [
      "Wall time: 998 µs\n"
     ]
    }
   ],
   "source": [
    "%%time\n",
    "\n",
    "with open('../inputs/11.txt') as file:\n",
    "    input = file.read()\n",
    "\n",
    "lines = input.rstrip().split('\\n')\n"
   ]
  },
  {
   "cell_type": "code",
   "execution_count": 2,
   "metadata": {},
   "outputs": [
    {
     "output_type": "stream",
     "name": "stdout",
     "text": [
      "Wall time: 1.48 s\n"
     ]
    },
    {
     "output_type": "execute_result",
     "data": {
      "text/plain": [
       "2270"
      ]
     },
     "metadata": {},
     "execution_count": 2
    }
   ],
   "source": [
    "%%time\n",
    "\n",
    "def neighs(st,x,y):\n",
    "    n = 0\n",
    "    for dy in (-1,0,1):\n",
    "        for dx in (-1,0,1):\n",
    "            if dx==0 and dy==0: continue\n",
    "            p = (x+dx,y+dy)\n",
    "            if p in st and st[p]=='#': n+=1\n",
    "    return n\n",
    "\n",
    "def simulate(ls):\n",
    "    h,w = len(ls),len(ls[0])\n",
    "    st = {}\n",
    "    for y,l in enumerate(ls):\n",
    "        for x,c in enumerate(l):\n",
    "            st[(x,y)]=c\n",
    "\n",
    "    changed = 1\n",
    "    while changed:\n",
    "        nxt = {}\n",
    "        changed = 0\n",
    "        for (x,y),c in st.items():\n",
    "            nxt[(x,y)]=c\n",
    "            if c=='L':\n",
    "                if neighs(st,x,y)==0:\n",
    "                    nxt[(x,y)]='#'\n",
    "                    changed += 1\n",
    "            elif c=='#':\n",
    "                if neighs(st,x,y)>=4:\n",
    "                    nxt[(x,y)]='L'\n",
    "                    changed += 1\n",
    "        st = nxt\n",
    "    return st\n",
    "\n",
    "st = simulate(lines)\n",
    "\n",
    "def occupied(st):\n",
    "    occ = 0\n",
    "    for c in st.values():\n",
    "        if c=='#': occ+=1\n",
    "    return occ\n",
    "\n",
    "occupied(st)\n"
   ]
  },
  {
   "cell_type": "code",
   "execution_count": 3,
   "metadata": {},
   "outputs": [
    {
     "output_type": "stream",
     "name": "stdout",
     "text": [
      "Wall time: 2.23 s\n"
     ]
    },
    {
     "output_type": "execute_result",
     "data": {
      "text/plain": [
       "2042"
      ]
     },
     "metadata": {},
     "execution_count": 3
    }
   ],
   "source": [
    "%%time\n",
    "\n",
    "def farNeighs(st,x,y):\n",
    "    n = 0\n",
    "    for dy in (-1,0,1):\n",
    "        for dx in (-1,0,1):\n",
    "            if dx==0 and dy==0: continue\n",
    "            p = (x+dx,y+dy)\n",
    "            while p in st and st[p]=='.':\n",
    "                p = (p[0]+dx,p[1]+dy)\n",
    "            if p in st and st[p]=='#': n+=1\n",
    "    return n\n",
    "\n",
    "def simulate2(ls):\n",
    "    h,w = len(ls),len(ls[0])\n",
    "    st = {}\n",
    "    for y,l in enumerate(ls):\n",
    "        for x,c in enumerate(l):\n",
    "            st[(x,y)]=c\n",
    "\n",
    "    changed = 1\n",
    "    while changed:\n",
    "        nxt = {}\n",
    "        changed = 0\n",
    "        for (x,y),c in st.items():\n",
    "            nxt[(x,y)]=c\n",
    "            if c=='L':\n",
    "                if farNeighs(st,x,y)==0:\n",
    "                    nxt[(x,y)]='#'\n",
    "                    changed += 1\n",
    "            elif c=='#':\n",
    "                if farNeighs(st,x,y)>=5:\n",
    "                    nxt[(x,y)]='L'\n",
    "                    changed += 1\n",
    "        st = nxt\n",
    "    return st\n",
    "\n",
    "st = simulate2(lines)\n",
    "\n",
    "occupied(st)\n"
   ]
  }
 ]
}