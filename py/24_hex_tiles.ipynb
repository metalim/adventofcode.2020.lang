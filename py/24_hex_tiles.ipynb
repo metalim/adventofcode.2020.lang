{
 "nbformat": 4,
 "nbformat_minor": 2,
 "metadata": {
  "language_info": {
   "name": "python",
   "codemirror_mode": {
    "name": "ipython",
    "version": 3
   },
   "version": "3.9.1-final"
  },
  "orig_nbformat": 2,
  "file_extension": ".py",
  "mimetype": "text/x-python",
  "name": "python",
  "npconvert_exporter": "python",
  "pygments_lexer": "ipython3",
  "version": 3,
  "kernelspec": {
   "name": "python3",
   "display_name": "Python 3.9.1 64-bit",
   "metadata": {
    "interpreter": {
     "hash": "fb50a28a6949eb9d155aaf863d5b48c1761333e8ec64a40a331f301d808d6832"
    }
   }
  }
 },
 "cells": [
  {
   "cell_type": "code",
   "execution_count": 1,
   "metadata": {},
   "outputs": [
    {
     "output_type": "stream",
     "name": "stdout",
     "text": [
      "Wall time: 2.99 ms\n"
     ]
    }
   ],
   "source": [
    "%%time\n",
    "\n",
    "import re\n",
    "\n",
    "with open('../inputs/24.txt') as file:\n",
    "    lines = file.read().splitlines()\n",
    "\n",
    "paths = [re.findall(r'(ne|nw|se|sw|e|w)', l) for l in lines]\n"
   ]
  },
  {
   "cell_type": "code",
   "execution_count": 2,
   "metadata": {},
   "outputs": [
    {
     "output_type": "stream",
     "name": "stdout",
     "text": [
      "Wall time: 2 ms\n"
     ]
    },
    {
     "output_type": "execute_result",
     "data": {
      "text/plain": [
       "341"
      ]
     },
     "metadata": {},
     "execution_count": 2
    }
   ],
   "source": [
    "%%time\n",
    "\n",
    "black = set()\n",
    "for p in paths:\n",
    "    x,y = 0,0\n",
    "\n",
    "    for d in p:\n",
    "        if d=='w': x-=1\n",
    "        elif d=='e': x+=1\n",
    "        elif d=='sw': y-=1\n",
    "        elif d=='ne': y+=1\n",
    "        elif d=='se': x+=1; y-=1\n",
    "        elif d=='nw': x-=1; y+=1\n",
    "\n",
    "    pos = (x,y)\n",
    "    if pos in black:\n",
    "        black.remove(pos)\n",
    "    else:\n",
    "        black.add(pos)\n",
    "\n",
    "len(black)\n"
   ]
  },
  {
   "cell_type": "code",
   "execution_count": 3,
   "metadata": {},
   "outputs": [
    {
     "output_type": "stream",
     "name": "stdout",
     "text": [
      "Wall time: 984 ms\n"
     ]
    },
    {
     "output_type": "execute_result",
     "data": {
      "text/plain": [
       "3700"
      ]
     },
     "metadata": {},
     "execution_count": 3
    }
   ],
   "source": [
    "%%time\n",
    "\n",
    "neis = [(1,0),(0,1),(-1,0),(0,-1),(1,-1),(-1,1)]\n",
    "\n",
    "def sim(bs):\n",
    "    test = set()\n",
    "    for b in bs:\n",
    "        test.add(b)\n",
    "        for n in neis:\n",
    "            test.add((b[0]+n[0],b[1]+n[1]))\n",
    "\n",
    "    nxt = set()\n",
    "    for t in test:\n",
    "        blackNeis = 0\n",
    "        for n in neis:\n",
    "            np = (t[0]+n[0],t[1]+n[1])\n",
    "            if np in bs:\n",
    "                blackNeis += 1\n",
    "        if t in bs:\n",
    "            if 1<=blackNeis<=2:\n",
    "                nxt.add(t)\n",
    "        else:\n",
    "            if blackNeis==2:\n",
    "                nxt.add(t)\n",
    "    return nxt\n",
    "\n",
    "cur = black.copy()\n",
    "for step in range(100):\n",
    "    cur = sim(cur)\n",
    "\n",
    "len(cur)\n"
   ]
  }
 ]
}