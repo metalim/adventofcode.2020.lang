{
 "nbformat": 4,
 "nbformat_minor": 2,
 "metadata": {
  "language_info": {
   "name": "python",
   "codemirror_mode": {
    "name": "ipython",
    "version": 3
   },
   "version": "3.9.0-final"
  },
  "orig_nbformat": 2,
  "file_extension": ".py",
  "mimetype": "text/x-python",
  "name": "python",
  "npconvert_exporter": "python",
  "pygments_lexer": "ipython3",
  "version": 3,
  "kernelspec": {
   "name": "python3",
   "display_name": "Python 3.9.0 64-bit",
   "metadata": {
    "interpreter": {
     "hash": "fb50a28a6949eb9d155aaf863d5b48c1761333e8ec64a40a331f301d808d6832"
    }
   }
  }
 },
 "cells": [
  {
   "cell_type": "code",
   "execution_count": 1,
   "metadata": {},
   "outputs": [],
   "source": [
    "import re\n",
    "\n",
    "with open('../inputs/06.txt') as file:\n",
    "    input = file.read()\n",
    "\n",
    "groups = input.rstrip().split('\\n\\n')\n"
   ]
  },
  {
   "cell_type": "code",
   "execution_count": 2,
   "metadata": {
    "tags": []
   },
   "outputs": [
    {
     "output_type": "stream",
     "name": "stdout",
     "text": [
      "Wall time: 2.99 ms\n"
     ]
    },
    {
     "output_type": "execute_result",
     "data": {
      "text/plain": [
       "6662"
      ]
     },
     "metadata": {},
     "execution_count": 2
    }
   ],
   "source": [
    "%%time\n",
    "\n",
    "sum = 0\n",
    "for g in groups:\n",
    "    ans = set()\n",
    "    for c in g:\n",
    "        if c=='\\n': continue\n",
    "        ans.add(c)\n",
    "    sum += len(ans)\n",
    "\n",
    "sum\n"
   ]
  },
  {
   "cell_type": "code",
   "execution_count": 3,
   "metadata": {},
   "outputs": [
    {
     "output_type": "stream",
     "name": "stdout",
     "text": [
      "Wall time: 1.99 ms\n"
     ]
    },
    {
     "output_type": "execute_result",
     "data": {
      "text/plain": [
       "3382"
      ]
     },
     "metadata": {},
     "execution_count": 3
    }
   ],
   "source": [
    "%%time\n",
    "\n",
    "sum = 0\n",
    "for g in groups:\n",
    "    ls = g.split('\\n')\n",
    "    ans = set(ls[0])\n",
    "    for l in ls[1:]:\n",
    "        ans = ans.intersection(l)\n",
    "    sum += len(ans)\n",
    "\n",
    "sum\n"
   ]
  }
 ]
}