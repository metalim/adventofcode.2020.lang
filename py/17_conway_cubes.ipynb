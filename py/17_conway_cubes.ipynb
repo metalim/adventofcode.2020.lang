{
 "nbformat": 4,
 "nbformat_minor": 2,
 "metadata": {
  "language_info": {
   "name": "python",
   "codemirror_mode": {
    "name": "ipython",
    "version": 3
   },
   "version": "3.9.1-final"
  },
  "orig_nbformat": 2,
  "file_extension": ".py",
  "mimetype": "text/x-python",
  "name": "python",
  "npconvert_exporter": "python",
  "pygments_lexer": "ipython3",
  "version": 3,
  "kernelspec": {
   "name": "python3",
   "display_name": "Python 3.9.1 64-bit",
   "metadata": {
    "interpreter": {
     "hash": "fb50a28a6949eb9d155aaf863d5b48c1761333e8ec64a40a331f301d808d6832"
    }
   }
  }
 },
 "cells": [
  {
   "cell_type": "code",
   "execution_count": 1,
   "metadata": {},
   "outputs": [
    {
     "output_type": "stream",
     "name": "stdout",
     "text": [
      "Wall time: 0 ns\n"
     ]
    }
   ],
   "source": [
    "%%time\n",
    "\n",
    "with open('../inputs/17.txt') as file:\n",
    "    lines = file.read().splitlines()\n"
   ]
  },
  {
   "cell_type": "code",
   "execution_count": 2,
   "metadata": {},
   "outputs": [
    {
     "output_type": "stream",
     "name": "stdout",
     "text": [
      "0 24\n1 54\n2 78\n3 125\n4 146\n5 272\n6 273\nWall time: 30.9 ms\n"
     ]
    },
    {
     "output_type": "execute_result",
     "data": {
      "text/plain": [
       "273"
      ]
     },
     "metadata": {},
     "execution_count": 2
    }
   ],
   "source": [
    "%%time\n",
    "\n",
    "from itertools import product\n",
    "\n",
    "def newState3D(lines):\n",
    "    st = set()\n",
    "    for y,l in enumerate(lines):\n",
    "        for x,c in enumerate(l):\n",
    "            if c == '#':\n",
    "                st.add((x,y,0))\n",
    "    return st\n",
    "\n",
    "def simulate3D(st):\n",
    "    check = set()\n",
    "    for (x,y,z) in st:\n",
    "        for (dx,dy,dz) in product((-1,0,1), repeat=3):\n",
    "            check.add((x+dx,y+dy,z+dz))\n",
    "    \n",
    "    nxt = set()\n",
    "    for (x,y,z) in check:\n",
    "        ns = 0\n",
    "        live = False\n",
    "        for (dx,dy,dz) in product((-1,0,1), repeat=3):\n",
    "            if (x+dx,y+dy,z+dz) in st:\n",
    "                if dx==dy==dz==0:\n",
    "                    live = True\n",
    "                else:\n",
    "                    ns+=1\n",
    "\n",
    "        if live and 2<=ns<=3 or not live and ns==3:\n",
    "            nxt.add((x,y,z))\n",
    "\n",
    "    return nxt\n",
    "\n",
    "st3 = newState3D(lines)\n",
    "print(0, len(st3))\n",
    "\n",
    "for i in range(6):\n",
    "    st3 = simulate3D(st3)\n",
    "    print(i+1, len(st3))\n",
    "len(st3)\n"
   ]
  },
  {
   "cell_type": "code",
   "execution_count": 3,
   "metadata": {},
   "outputs": [
    {
     "output_type": "stream",
     "name": "stdout",
     "text": [
      "0 24\n",
      "1 150\n",
      "2 198\n",
      "3 684\n",
      "4 572\n",
      "5 2296\n",
      "6 1504\n",
      "Wall time: 915 ms\n"
     ]
    },
    {
     "output_type": "execute_result",
     "data": {
      "text/plain": [
       "1504"
      ]
     },
     "metadata": {},
     "execution_count": 3
    }
   ],
   "source": [
    "%%time\n",
    "\n",
    "\n",
    "def newState4D(lines):\n",
    "    st = set()\n",
    "    for y,l in enumerate(lines):\n",
    "        for x,c in enumerate(l):\n",
    "            if c == '#':\n",
    "                st.add((x,y,0,0))\n",
    "    return st\n",
    "\n",
    "def simulate4D(st):\n",
    "    check = set()\n",
    "    for (x,y,z,w) in st:\n",
    "        for (dx,dy,dz,dw) in product((-1,0,1), repeat=4):\n",
    "            check.add((x+dx,y+dy,z+dz,w+dw))\n",
    "    nxt = set()\n",
    "    for (x,y,z,w) in check:\n",
    "        ns = 0\n",
    "        live = False\n",
    "        for (dx,dy,dz,dw) in product((-1,0,1), repeat=4):\n",
    "            if (x+dx,y+dy,z+dz,w+dw) in st:\n",
    "                if dx==dy==dz==dw==0:\n",
    "                    live = True\n",
    "                else:\n",
    "                    ns+=1\n",
    "\n",
    "        if live and 2<=ns<=3 or not live and ns==3:\n",
    "            nxt.add((x,y,z,w))\n",
    "\n",
    "    return nxt\n",
    "\n",
    "st4 = newState4D(lines)\n",
    "print(0, len(st4))\n",
    "\n",
    "for i in range(6):\n",
    "    st4 = simulate4D(st4)\n",
    "    print(i+1, len(st4))\n",
    "len(st4)\n"
   ]
  }
 ]
}