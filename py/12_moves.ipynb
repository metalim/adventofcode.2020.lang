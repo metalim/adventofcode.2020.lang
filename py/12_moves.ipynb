{
 "nbformat": 4,
 "nbformat_minor": 2,
 "metadata": {
  "language_info": {
   "name": "python",
   "codemirror_mode": {
    "name": "ipython",
    "version": 3
   },
   "version": "3.9.1-final"
  },
  "orig_nbformat": 2,
  "file_extension": ".py",
  "mimetype": "text/x-python",
  "name": "python",
  "npconvert_exporter": "python",
  "pygments_lexer": "ipython3",
  "version": 3,
  "kernelspec": {
   "name": "python3",
   "display_name": "Python 3.9.1 64-bit",
   "metadata": {
    "interpreter": {
     "hash": "fb50a28a6949eb9d155aaf863d5b48c1761333e8ec64a40a331f301d808d6832"
    }
   }
  }
 },
 "cells": [
  {
   "cell_type": "code",
   "execution_count": 1,
   "metadata": {},
   "outputs": [
    {
     "output_type": "stream",
     "name": "stdout",
     "text": [
      "Wall time: 997 µs\n"
     ]
    }
   ],
   "source": [
    "%%time\n",
    "\n",
    "import re\n",
    "\n",
    "with open('../inputs/12.txt') as file:\n",
    "    input = file.read()\n",
    "\n",
    "lines = input.rstrip().split('\\n')\n"
   ]
  },
  {
   "cell_type": "code",
   "execution_count": 2,
   "metadata": {},
   "outputs": [
    {
     "output_type": "stream",
     "name": "stdout",
     "text": [
      "Wall time: 997 µs\n"
     ]
    },
    {
     "output_type": "execute_result",
     "data": {
      "text/plain": [
       "2057"
      ]
     },
     "metadata": {},
     "execution_count": 2
    }
   ],
   "source": [
    "%%time\n",
    "\n",
    "dirs=[(1,0),(0,1),(-1,0),(0,-1)]\n",
    "d=0\n",
    "x,y=0,0\n",
    "\n",
    "for l in lines:\n",
    "    n = int(l[1:])\n",
    "    if l[0]=='N': y+=n\n",
    "    elif l[0]=='S': y-=n\n",
    "    elif l[0]=='E': x+=n\n",
    "    elif l[0]=='W': x-=n\n",
    "    elif l[0]=='F': x+=n*dirs[d][0]; y+=n*dirs[d][1]\n",
    "    elif l[0]=='L': d=(d+n//90)%4\n",
    "    elif l[0]=='R': d=(d+4-n//90)%4\n",
    "    else: print(\"unknown \",l)\n",
    "\n",
    "abs(x)+abs(y)\n"
   ]
  },
  {
   "cell_type": "code",
   "execution_count": 3,
   "metadata": {
    "tags": []
   },
   "outputs": [
    {
     "output_type": "stream",
     "name": "stdout",
     "text": [
      "Wall time: 998 µs\n"
     ]
    },
    {
     "output_type": "execute_result",
     "data": {
      "text/plain": [
       "71504"
      ]
     },
     "metadata": {},
     "execution_count": 3
    }
   ],
   "source": [
    "%%time\n",
    "\n",
    "wp = [10,1]\n",
    "p = [0,0]\n",
    "d = 0\n",
    "\n",
    "for l in lines:\n",
    "    n = int(l[1:])\n",
    "    if l[0]=='N': wp[1]+=n\n",
    "    elif l[0]=='S': wp[1]-=n\n",
    "    elif l[0]=='E': wp[0]+=n\n",
    "    elif l[0]=='W': wp[0]-=n\n",
    "    elif l[0]=='F': p[0]+=n*wp[0]; p[1]+=n*wp[1]\n",
    "    elif l[0]=='L':\n",
    "        for i in range(n//90): wp = [-wp[1],wp[0]] \n",
    "    elif l[0]=='R':\n",
    "        for i in range(n//90): wp = [wp[1],-wp[0]]\n",
    "    else: print(\"unknown \",l)\n",
    "\n",
    "abs(p[0])+abs(p[1])\n"
   ]
  }
 ]
}