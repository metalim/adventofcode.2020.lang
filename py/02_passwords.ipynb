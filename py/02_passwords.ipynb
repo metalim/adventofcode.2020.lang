{
 "nbformat": 4,
 "nbformat_minor": 2,
 "metadata": {
  "language_info": {
   "name": "python",
   "codemirror_mode": {
    "name": "ipython",
    "version": 3
   },
   "version": "3.9.0-final"
  },
  "orig_nbformat": 2,
  "file_extension": ".py",
  "mimetype": "text/x-python",
  "name": "python",
  "npconvert_exporter": "python",
  "pygments_lexer": "ipython3",
  "version": 3,
  "kernelspec": {
   "name": "python3",
   "display_name": "Python 3.9.0 64-bit",
   "metadata": {
    "interpreter": {
     "hash": "fb50a28a6949eb9d155aaf863d5b48c1761333e8ec64a40a331f301d808d6832"
    }
   }
  }
 },
 "cells": [
  {
   "cell_type": "code",
   "execution_count": 1,
   "metadata": {},
   "outputs": [],
   "source": [
    "import re\n",
    "\n",
    "with open('../inputs/02.txt') as file:\n",
    "    input = file.read()\n",
    "\n",
    "lines = input.rstrip().split('\\n')\n",
    "ms = [re.match(r'(\\d+)-(\\d+) (\\w): (\\w+)', l) for l in lines]\n",
    "ps = [(int(m.group(1)),int(m.group(2)),m.group(3),m.group(4)) for m in ms]\n"
   ]
  },
  {
   "cell_type": "code",
   "execution_count": 2,
   "metadata": {},
   "outputs": [
    {
     "output_type": "stream",
     "name": "stdout",
     "text": [
      "Wall time: 1.99 ms\n"
     ]
    },
    {
     "output_type": "execute_result",
     "data": {
      "text/plain": [
       "517"
      ]
     },
     "metadata": {},
     "execution_count": 2
    }
   ],
   "source": [
    "%%time\n",
    "\n",
    "valid = 0\n",
    "for p in ps:\n",
    "    n=0\n",
    "    for c in p[3]:\n",
    "        if c==p[2]:\n",
    "            n+=1\n",
    "    if n>=p[0] and n<=p[1]:\n",
    "        valid+=1\n",
    "valid"
   ]
  },
  {
   "cell_type": "code",
   "execution_count": 3,
   "metadata": {},
   "outputs": [
    {
     "output_type": "stream",
     "name": "stdout",
     "text": [
      "Wall time: 0 ns\n"
     ]
    },
    {
     "output_type": "execute_result",
     "data": {
      "text/plain": [
       "284"
      ]
     },
     "metadata": {},
     "execution_count": 3
    }
   ],
   "source": [
    "%%time\n",
    "\n",
    "valid = 0\n",
    "for p in ps:\n",
    "    if (p[2]==p[3][p[0]-1]) != (p[2]==p[3][p[1]-1]):\n",
    "        valid+=1\n",
    "valid"
   ]
  }
 ]
}