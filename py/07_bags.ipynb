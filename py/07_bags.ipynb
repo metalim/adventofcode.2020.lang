{
 "nbformat": 4,
 "nbformat_minor": 2,
 "metadata": {
  "language_info": {
   "name": "python",
   "codemirror_mode": {
    "name": "ipython",
    "version": 3
   },
   "version": "3.9.0-final"
  },
  "orig_nbformat": 2,
  "file_extension": ".py",
  "mimetype": "text/x-python",
  "name": "python",
  "npconvert_exporter": "python",
  "pygments_lexer": "ipython3",
  "version": 3,
  "kernelspec": {
   "name": "python3",
   "display_name": "Python 3.9.0 64-bit",
   "metadata": {
    "interpreter": {
     "hash": "fb50a28a6949eb9d155aaf863d5b48c1761333e8ec64a40a331f301d808d6832"
    }
   }
  }
 },
 "cells": [
  {
   "cell_type": "code",
   "execution_count": 1,
   "metadata": {},
   "outputs": [],
   "source": [
    "import re\n",
    "\n",
    "with open('../inputs/07.txt') as file:\n",
    "    input = file.read()\n",
    "\n",
    "lines = re.findall(r'(\\w+ \\w+) bags contain (.*)\\.', input)\n",
    "def parseDefs(bs):\n",
    "    defs = {}\n",
    "    for b in bs:\n",
    "        d = re.findall(r'(\\d+) (\\w+ \\w+)',b)\n",
    "        if len(d)>0:\n",
    "            defs[d[0][1]] = int(d[0][0])\n",
    "    return defs\n",
    "\n",
    "bags = {l[0]:parseDefs(l[1].split(', ')) for l in lines}\n"
   ]
  },
  {
   "cell_type": "code",
   "execution_count": 2,
   "metadata": {},
   "outputs": [
    {
     "output_type": "stream",
     "name": "stdout",
     "text": [
      "Wall time: 18 ms\n"
     ]
    },
    {
     "output_type": "execute_result",
     "data": {
      "text/plain": [
       "348"
      ]
     },
     "metadata": {},
     "execution_count": 2
    }
   ],
   "source": [
    "%%time\n",
    "\n",
    "found = set()\n",
    "find = set(['shiny gold'])\n",
    "nxt = set()\n",
    "\n",
    "while len(find)>0:\n",
    "    for k in find:\n",
    "        for (b,vs) in bags.items():\n",
    "            if k in vs and b not in found:\n",
    "                found.add(b)\n",
    "                nxt.add(b)\n",
    "\n",
    "    find = nxt\n",
    "    nxt = set()\n",
    "\n",
    "len(found)"
   ]
  },
  {
   "cell_type": "code",
   "execution_count": 3,
   "metadata": {},
   "outputs": [
    {
     "output_type": "stream",
     "name": "stdout",
     "text": [
      "Wall time: 0 ns\n"
     ]
    },
    {
     "output_type": "execute_result",
     "data": {
      "text/plain": [
       "18885"
      ]
     },
     "metadata": {},
     "execution_count": 3
    }
   ],
   "source": [
    "%%time\n",
    "\n",
    "from collections import defaultdict\n",
    "\n",
    "find = {'shiny gold':1}\n",
    "nxt = defaultdict(int)\n",
    "\n",
    "total = 0\n",
    "\n",
    "while len(find)>0:\n",
    "    for (k,kn) in find.items():\n",
    "        for (v,vn) in bags[k].items():\n",
    "            nxt[v]+=vn*kn\n",
    "            total+=vn*kn\n",
    "\n",
    "    find = nxt\n",
    "    nxt = defaultdict(int)\n",
    "\n",
    "total\n"
   ]
  }
 ]
}