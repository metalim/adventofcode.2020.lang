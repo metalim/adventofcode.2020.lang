{
 "nbformat": 4,
 "nbformat_minor": 2,
 "metadata": {
  "language_info": {
   "name": "python",
   "codemirror_mode": {
    "name": "ipython",
    "version": 3
   },
   "version": "3.9.1-final"
  },
  "orig_nbformat": 2,
  "file_extension": ".py",
  "mimetype": "text/x-python",
  "name": "python",
  "npconvert_exporter": "python",
  "pygments_lexer": "ipython3",
  "version": 3,
  "kernelspec": {
   "name": "python3",
   "display_name": "Python 3.9.1 64-bit",
   "metadata": {
    "interpreter": {
     "hash": "fb50a28a6949eb9d155aaf863d5b48c1761333e8ec64a40a331f301d808d6832"
    }
   }
  }
 },
 "cells": [
  {
   "cell_type": "code",
   "execution_count": 1,
   "metadata": {},
   "outputs": [
    {
     "output_type": "stream",
     "name": "stdout",
     "text": [
      "Wall time: 998 µs\n"
     ]
    },
    {
     "output_type": "execute_result",
     "data": {
      "text/plain": [
       "(1000390,\n",
       " {0: 23, 13: 41, 23: 383, 36: 13, 37: 17, 42: 19, 52: 29, 54: 503, 91: 37})"
      ]
     },
     "metadata": {},
     "execution_count": 1
    }
   ],
   "source": [
    "%%time\n",
    "\n",
    "import re\n",
    "\n",
    "with open('../inputs/13.txt') as file:\n",
    "    lines = file.read().splitlines()\n",
    "\n",
    "start = int(lines[0])\n",
    "\n",
    "buses = {}\n",
    "for i,b in enumerate(lines[1].split(',')):\n",
    "    try:\n",
    "        n = int(b)\n",
    "        buses[i]=n\n",
    "    except:\n",
    "        pass\n",
    "\n",
    "start,buses\n"
   ]
  },
  {
   "cell_type": "code",
   "execution_count": 2,
   "metadata": {},
   "outputs": [
    {
     "output_type": "stream",
     "name": "stdout",
     "text": [
      "Wall time: 0 ns\n"
     ]
    },
    {
     "output_type": "execute_result",
     "data": {
      "text/plain": [
       "2298"
      ]
     },
     "metadata": {},
     "execution_count": 2
    }
   ],
   "source": [
    "%%time\n",
    "\n",
    "start = int(lines[0])\n",
    "minb = (float('inf'),0)\n",
    "for b in buses.values():\n",
    "    x = start//b\n",
    "    if x*b<start: x+=1\n",
    "    t = x*b-start\n",
    "    if t<minb[0]:\n",
    "        minb=(t,b)\n",
    "\n",
    "minb[0]*minb[1]\n"
   ]
  },
  {
   "cell_type": "code",
   "execution_count": 3,
   "metadata": {},
   "outputs": [],
   "source": [
    "# from https://rosettacode.org/wiki/Chinese_remainder_theorem#Python_3.6\n",
    "\n",
    "from functools import reduce\n",
    "def chinese_remainder(n, a):\n",
    "    sum = 0\n",
    "    prod = reduce(lambda a, b: a*b, n)\n",
    "    for n_i, a_i in zip(n, a):\n",
    "        p = prod // n_i\n",
    "        sum += a_i * mul_inv(p, n_i) * p\n",
    "    return sum % prod\n",
    " \n",
    "def mul_inv(a, b):\n",
    "    b0 = b\n",
    "    x0, x1 = 0, 1\n",
    "    if b == 1: return 1\n",
    "    while a > 1:\n",
    "        q = a // b\n",
    "        a, b = b, a%b\n",
    "        x0, x1 = x1 - q * x0, x0\n",
    "    if x1 < 0: x1 += b0\n",
    "    return x1\n"
   ]
  },
  {
   "cell_type": "code",
   "execution_count": 4,
   "metadata": {},
   "outputs": [
    {
     "output_type": "stream",
     "name": "stdout",
     "text": [
      "Wall time: 0 ns\n"
     ]
    },
    {
     "output_type": "execute_result",
     "data": {
      "text/plain": [
       "783685719679632"
      ]
     },
     "metadata": {},
     "execution_count": 4
    }
   ],
   "source": [
    "%%time\n",
    "\n",
    "# assuming bus numbers are co-primes!\n",
    "\n",
    "rems = [b-t for t,b in buses.items()]\n",
    "chinese_remainder(buses.values(),rems)\n"
   ]
  }
 ]
}