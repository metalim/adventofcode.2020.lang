{
 "nbformat": 4,
 "nbformat_minor": 2,
 "metadata": {
  "language_info": {
   "name": "python",
   "codemirror_mode": {
    "name": "ipython",
    "version": 3
   },
   "version": "3.9.1-final"
  },
  "orig_nbformat": 2,
  "file_extension": ".py",
  "mimetype": "text/x-python",
  "name": "python",
  "npconvert_exporter": "python",
  "pygments_lexer": "ipython3",
  "version": 3,
  "kernelspec": {
   "name": "python3",
   "display_name": "Python 3.9.1 64-bit",
   "metadata": {
    "interpreter": {
     "hash": "fb50a28a6949eb9d155aaf863d5b48c1761333e8ec64a40a331f301d808d6832"
    }
   }
  }
 },
 "cells": [
  {
   "cell_type": "code",
   "execution_count": 1,
   "metadata": {
    "tags": []
   },
   "outputs": [
    {
     "output_type": "stream",
     "name": "stdout",
     "text": [
      "Wall time: 998 µs\n"
     ]
    }
   ],
   "source": [
    "%%time\n",
    "\n",
    "import re\n",
    "\n",
    "with open('../inputs/20.txt') as file:\n",
    "    lines = file.read()\n",
    "\n",
    "tiles = {}\n",
    "for b in lines.split('\\n\\n'):\n",
    "    bls = b.splitlines()\n",
    "    if len(bls)<1: continue\n",
    "    m = re.match(r'Tile (\\d+):', bls[0])\n",
    "    tiles[int(m.group(1))] = bls[1:]\n"
   ]
  },
  {
   "cell_type": "code",
   "execution_count": 2,
   "metadata": {},
   "outputs": [
    {
     "output_type": "stream",
     "name": "stdout",
     "text": [
      "2789\n3119\n1549\n2063\nWall time: 8.98 ms\n"
     ]
    },
    {
     "output_type": "execute_result",
     "data": {
      "text/plain": [
       "27798062994017"
      ]
     },
     "metadata": {},
     "execution_count": 2
    }
   ],
   "source": [
    "%%time\n",
    "\n",
    "teds = {}\n",
    "\n",
    "for id,t in tiles.items():\n",
    "    N = len(t)-1\n",
    "    f = list(map(lambda l:''.join(l), zip(*t)))\n",
    "    teds[id] = {t[0],t[N],t[0][::-1],t[N][::-1],f[0],f[N],f[0][::-1],f[N][::-1]}\n",
    "\n",
    "prod = 1\n",
    "for a,ta in teds.items():\n",
    "    neis = []\n",
    "    for b,tb in teds.items():\n",
    "        if a==b or ta.isdisjoint(tb): continue\n",
    "        neis.append(b)\n",
    "    if len(neis) is 2:\n",
    "        prod *= a\n",
    "        print(a)\n",
    "\n",
    "prod\n"
   ]
  },
  {
   "cell_type": "code",
   "execution_count": 3,
   "metadata": {},
   "outputs": [
    {
     "output_type": "stream",
     "name": "stdout",
     "text": [
      "Wall time: 0 ns\n"
     ]
    }
   ],
   "source": [
    "%%time\n",
    "\n"
   ]
  }
 ]
}