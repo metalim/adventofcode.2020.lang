{
 "nbformat": 4,
 "nbformat_minor": 2,
 "metadata": {
  "language_info": {
   "name": "python",
   "codemirror_mode": {
    "name": "ipython",
    "version": 3
   },
   "version": "3.9.0-final"
  },
  "orig_nbformat": 2,
  "file_extension": ".py",
  "mimetype": "text/x-python",
  "name": "python",
  "npconvert_exporter": "python",
  "pygments_lexer": "ipython3",
  "version": 3,
  "kernelspec": {
   "name": "python3",
   "display_name": "Python 3.9.0 64-bit",
   "metadata": {
    "interpreter": {
     "hash": "fb50a28a6949eb9d155aaf863d5b48c1761333e8ec64a40a331f301d808d6832"
    }
   }
  }
 },
 "cells": [
  {
   "cell_type": "code",
   "execution_count": 1,
   "metadata": {},
   "outputs": [],
   "source": [
    "import re\n",
    "\n",
    "with open('../inputs/08.txt') as file:\n",
    "    input = file.read()\n",
    "\n",
    "lines = input.rstrip().split('\\n')\n",
    "ops = [l.split(' ') for l in lines]\n"
   ]
  },
  {
   "cell_type": "code",
   "execution_count": 2,
   "metadata": {},
   "outputs": [
    {
     "output_type": "stream",
     "name": "stdout",
     "text": [
      "Wall time: 997 µs\n"
     ]
    },
    {
     "output_type": "execute_result",
     "data": {
      "text/plain": [
       "1451"
      ]
     },
     "metadata": {},
     "execution_count": 2
    }
   ],
   "source": [
    "%%time\n",
    "\n",
    "def execute(ops):\n",
    "    p,acc = 0,0\n",
    "    executed = set()\n",
    "    while p not in executed and 0<=p<len(ops):\n",
    "        executed.add(p)\n",
    "        if ops[p][0]=='acc':\n",
    "            acc += int(ops[p][1])\n",
    "            p += 1\n",
    "        elif ops[p][0]=='jmp':\n",
    "            p += int(ops[p][1])\n",
    "        elif ops[p][0]=='nop':\n",
    "            p += 1\n",
    "    return (p,acc)\n",
    "\n",
    "(p,acc) = execute(ops)\n",
    "acc\n"
   ]
  },
  {
   "cell_type": "code",
   "execution_count": 3,
   "metadata": {},
   "outputs": [
    {
     "output_type": "stream",
     "name": "stdout",
     "text": [
      "Wall time: 24.4 ms\n"
     ]
    },
    {
     "output_type": "execute_result",
     "data": {
      "text/plain": [
       "1160"
      ]
     },
     "metadata": {},
     "execution_count": 3
    }
   ],
   "source": [
    "%%time\n",
    "\n",
    "swap = {'nop':'jmp', 'jmp':'nop'}\n",
    "for (i,op) in enumerate(ops):\n",
    "    if op[0] not in swap: continue\n",
    "    saved = op[0]\n",
    "    op[0] = swap[op[0]]\n",
    "    (p,acc) = execute(ops)\n",
    "    op[0] = saved\n",
    "    if p>=len(ops): break\n",
    "\n",
    "acc\n"
   ]
  }
 ]
}