{
 "nbformat": 4,
 "nbformat_minor": 2,
 "metadata": {
  "language_info": {
   "name": "python",
   "codemirror_mode": {
    "name": "ipython",
    "version": 3
   },
   "version": "3.9.0-final"
  },
  "orig_nbformat": 2,
  "file_extension": ".py",
  "mimetype": "text/x-python",
  "name": "python",
  "npconvert_exporter": "python",
  "pygments_lexer": "ipython3",
  "version": 3,
  "kernelspec": {
   "name": "python3",
   "display_name": "Python 3.9.0 64-bit",
   "metadata": {
    "interpreter": {
     "hash": "fb50a28a6949eb9d155aaf863d5b48c1761333e8ec64a40a331f301d808d6832"
    }
   }
  }
 },
 "cells": [
  {
   "cell_type": "code",
   "execution_count": 1,
   "metadata": {},
   "outputs": [],
   "source": [
    "import re\n",
    "\n",
    "with open('../inputs/09.txt') as file:\n",
    "    input = file.read()\n",
    "\n",
    "lines = input.rstrip().split('\\n')\n",
    "ns = [int(l) for l in lines]\n"
   ]
  },
  {
   "cell_type": "code",
   "execution_count": 2,
   "metadata": {},
   "outputs": [
    {
     "output_type": "stream",
     "name": "stdout",
     "text": [
      "Wall time: 2.99 ms\n"
     ]
    },
    {
     "output_type": "execute_result",
     "data": {
      "text/plain": [
       "552655238"
      ]
     },
     "metadata": {},
     "execution_count": 2
    }
   ],
   "source": [
    "%%time\n",
    "\n",
    "def isSum(n,ns):\n",
    "    for i,a in enumerate(ns[:-1]):\n",
    "        for b in ns[i+1:]:\n",
    "            if a!=b and n==a+b:\n",
    "                return True\n",
    "    return False\n",
    "\n",
    "for i in range(25,len(ns)):\n",
    "    n = ns[i]\n",
    "    if not isSum(ns[i],ns[i-25:i]):\n",
    "        key = n\n",
    "        break\n",
    "\n",
    "key\n"
   ]
  },
  {
   "cell_type": "code",
   "execution_count": 3,
   "metadata": {},
   "outputs": [
    {
     "output_type": "stream",
     "name": "stdout",
     "text": [
      "Wall time: 0 ns\n"
     ]
    },
    {
     "output_type": "execute_result",
     "data": {
      "text/plain": [
       "70672245"
      ]
     },
     "metadata": {},
     "execution_count": 3
    }
   ],
   "source": [
    "%%time\n",
    "\n",
    "def findSeq(key,ns):\n",
    "    seqSum, i = 0, 0\n",
    "    for j,x in enumerate(ns):\n",
    "        seqSum += x\n",
    "        while seqSum>key:\n",
    "            seqSum -= ns[i]\n",
    "            i += 1\n",
    "        if seqSum==key:\n",
    "            return ns[i:j+1]\n",
    "\n",
    "def minmax(ns):\n",
    "    return min(ns),max(ns)\n",
    "\n",
    "sum(minmax(findSeq(key,ns)))\n"
   ]
  }
 ]
}