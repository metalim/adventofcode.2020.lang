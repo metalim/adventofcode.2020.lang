{
 "nbformat": 4,
 "nbformat_minor": 2,
 "metadata": {
  "language_info": {
   "name": "python",
   "codemirror_mode": {
    "name": "ipython",
    "version": 3
   },
   "version": "3.9.1-final"
  },
  "orig_nbformat": 2,
  "file_extension": ".py",
  "mimetype": "text/x-python",
  "name": "python",
  "npconvert_exporter": "python",
  "pygments_lexer": "ipython3",
  "version": 3,
  "kernelspec": {
   "name": "python3",
   "display_name": "Python 3.9.1 64-bit",
   "metadata": {
    "interpreter": {
     "hash": "fb50a28a6949eb9d155aaf863d5b48c1761333e8ec64a40a331f301d808d6832"
    }
   }
  }
 },
 "cells": [
  {
   "cell_type": "code",
   "execution_count": 1,
   "metadata": {},
   "outputs": [
    {
     "output_type": "stream",
     "name": "stdout",
     "text": [
      "Wall time: 2.99 ms\n"
     ]
    }
   ],
   "source": [
    "%%time\n",
    "\n",
    "import re\n",
    "\n",
    "with open('../inputs/14.txt') as file:\n",
    "    lines = file.read().splitlines()\n",
    "\n",
    "def parse(l):\n",
    "    m = re.match(r'mask = (\\w+)', l)\n",
    "    if m!=None:\n",
    "        return (True, m.group(1))\n",
    "    m = re.match(r'mem\\[(\\d+)\\] = (\\d+)', l)\n",
    "    return (False, int(m.group(1)), int(m.group(2)))\n",
    "\n",
    "ops = [parse(l) for l in lines]\n"
   ]
  },
  {
   "cell_type": "code",
   "execution_count": 2,
   "metadata": {},
   "outputs": [
    {
     "output_type": "stream",
     "name": "stdout",
     "text": [
      "Wall time: 0 ns\n"
     ]
    },
    {
     "output_type": "execute_result",
     "data": {
      "text/plain": [
       "11884151942312"
      ]
     },
     "metadata": {},
     "execution_count": 2
    }
   ],
   "source": [
    "%%time\n",
    "\n",
    "mem = {}\n",
    "maska = 0b111111111111111111111111111111111111\n",
    "masko = 0\n",
    "\n",
    "for op in ops:\n",
    "    if op[0]:\n",
    "        maska = int(op[1].replace('X','1'),2)\n",
    "        masko = int(op[1].replace('X','0'),2)\n",
    "    else:\n",
    "        mem[op[1]] = op[2]&maska|masko\n",
    "\n",
    "sum(mem.values())\n"
   ]
  },
  {
   "cell_type": "code",
   "execution_count": 3,
   "metadata": {
    "tags": []
   },
   "outputs": [
    {
     "output_type": "stream",
     "name": "stdout",
     "text": [
      "Wall time: 37.9 ms\n"
     ]
    },
    {
     "output_type": "execute_result",
     "data": {
      "text/plain": [
       "2625449018811"
      ]
     },
     "metadata": {},
     "execution_count": 3
    }
   ],
   "source": [
    "%%time\n",
    "\n",
    "from itertools import chain, combinations\n",
    "\n",
    "# from itertools-extended\n",
    "def powerset(iterable):\n",
    "    \"powerset([1,2,3]) --> () (1,) (2,) (3,) (1,2) (1,3) (2,3) (1,2,3)\"\n",
    "    s = list(iterable)\n",
    "    return chain.from_iterable(combinations(s, r) for r in range(len(s)+1))\n",
    "\n",
    "mem = {}\n",
    "maska = 0b111111111111111111111111111111111111\n",
    "masko = 0\n",
    "maskf = []\n",
    "\n",
    "for op in ops:\n",
    "    if op[0]:\n",
    "        maska = int(op[1].replace('0','1').replace('X','0'),2)\n",
    "        masko = int(op[1].replace('X','0'),2)\n",
    "        maskf = []\n",
    "        for i in range(36):\n",
    "            if op[1][35-i]=='X':\n",
    "                maskf.append(2**i)\n",
    "    else:\n",
    "        for f in powerset(maskf):\n",
    "            mem[ op[1]&maska|masko + sum(f) ] = op[2]\n",
    "\n",
    "sum(mem.values())\n"
   ]
  }
 ]
}