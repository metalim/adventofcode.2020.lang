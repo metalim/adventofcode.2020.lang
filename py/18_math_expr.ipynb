{
 "nbformat": 4,
 "nbformat_minor": 2,
 "metadata": {
  "language_info": {
   "name": "python",
   "codemirror_mode": {
    "name": "ipython",
    "version": 3
   },
   "version": "3.9.1-final"
  },
  "orig_nbformat": 2,
  "file_extension": ".py",
  "mimetype": "text/x-python",
  "name": "python",
  "npconvert_exporter": "python",
  "pygments_lexer": "ipython3",
  "version": 3,
  "kernelspec": {
   "name": "python3",
   "display_name": "Python 3.9.1 64-bit",
   "metadata": {
    "interpreter": {
     "hash": "fb50a28a6949eb9d155aaf863d5b48c1761333e8ec64a40a331f301d808d6832"
    }
   }
  }
 },
 "cells": [
  {
   "cell_type": "code",
   "execution_count": 1,
   "metadata": {},
   "outputs": [
    {
     "output_type": "stream",
     "name": "stdout",
     "text": [
      "Wall time: 9.97 ms\n"
     ]
    }
   ],
   "source": [
    "%%time\n",
    "\n",
    "import re\n",
    "\n",
    "with open('../inputs/18.txt') as file:\n",
    "    lines = file.read().splitlines()\n"
   ]
  },
  {
   "cell_type": "code",
   "execution_count": 2,
   "metadata": {},
   "outputs": [
    {
     "output_type": "stream",
     "name": "stdout",
     "text": [
      "Wall time: 4.99 ms\n"
     ]
    },
    {
     "output_type": "execute_result",
     "data": {
      "text/plain": [
       "1890866893020"
      ]
     },
     "metadata": {},
     "execution_count": 2
    }
   ],
   "source": [
    "%%time\n",
    "\n",
    "from math import prod\n",
    "\n",
    "def id2(t):\n",
    "    return t[1]\n",
    "\n",
    "def calc(l):\n",
    "    i = 0\n",
    "    out = 0\n",
    "    op = id2\n",
    "    while i < len(l):\n",
    "        c = l[i]\n",
    "        i += 1\n",
    "\n",
    "        if c is ' ': continue\n",
    "        elif c is ')': break\n",
    "        elif c is '+': op = sum\n",
    "        elif c is '*': op = prod\n",
    "        elif c is '(':\n",
    "            ex, j = calc(l[i:])\n",
    "            i += j\n",
    "            out = op((out, ex))\n",
    "        else:\n",
    "            ex = int(c)\n",
    "            out = op((out, ex))\n",
    "\n",
    "    return out, i\n",
    "\n",
    "\n",
    "total = 0\n",
    "for l in lines:\n",
    "    n,i = calc(l)\n",
    "    total += n\n",
    "\n",
    "total\n"
   ]
  },
  {
   "cell_type": "code",
   "execution_count": 3,
   "metadata": {},
   "outputs": [
    {
     "output_type": "stream",
     "name": "stdout",
     "text": [
      "Wall time: 0 ns\n"
     ]
    }
   ],
   "source": [
    "%%time\n",
    "\n",
    "\"\"\"\n",
    "def calc2(l):\n",
    "    i = 0\n",
    "    out = 0\n",
    "    op = sum\n",
    "    while i < len(l):\n",
    "        c = l[i]\n",
    "        i += 1\n",
    "\n",
    "        if c is ' ': continue\n",
    "        elif c is ')': break\n",
    "        elif c is '+': op = sum\n",
    "        elif c is '*': op = prod\n",
    "        elif c is '(':\n",
    "            ex, j = calc(l[i:])\n",
    "            i += j\n",
    "            out = op((out, ex))\n",
    "        else:\n",
    "            ex = int(c)\n",
    "            out = op((out, ex))\n",
    "\n",
    "    return out, i\n",
    "\n",
    "\n",
    "total = 0\n",
    "for l in lines:\n",
    "    n,i = calc(l)\n",
    "    total += n\n",
    "\n",
    "total\n",
    "\"\"\"\n",
    "\n",
    "pass\n"
   ]
  }
 ]
}