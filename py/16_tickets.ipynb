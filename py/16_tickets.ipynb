{
 "nbformat": 4,
 "nbformat_minor": 2,
 "metadata": {
  "language_info": {
   "name": "python",
   "codemirror_mode": {
    "name": "ipython",
    "version": 3
   },
   "version": "3.9.1-final"
  },
  "orig_nbformat": 2,
  "file_extension": ".py",
  "mimetype": "text/x-python",
  "name": "python",
  "npconvert_exporter": "python",
  "pygments_lexer": "ipython3",
  "version": 3,
  "kernelspec": {
   "name": "python3",
   "display_name": "Python 3.9.1 64-bit",
   "metadata": {
    "interpreter": {
     "hash": "fb50a28a6949eb9d155aaf863d5b48c1761333e8ec64a40a331f301d808d6832"
    }
   }
  }
 },
 "cells": [
  {
   "cell_type": "code",
   "execution_count": 1,
   "metadata": {},
   "outputs": [
    {
     "output_type": "stream",
     "name": "stdout",
     "text": [
      "[151, 71, 67, 113, 127, 163, 131, 59, 137, 103, 73, 139, 107, 101, 97, 149, 157, 53, 109, 61]\n[[680, 418, 202, 55, 792, 800, 896, 801, 312, 252, 721, 702, 24, 112, 608, 837, 98, 222, 797, 364], [876, 910, 289, 816, 873, 280, 791, 313, 641, 15, 719, 587, 353, 366, 617, 710, 565, 419, 339, 621]] ... 241\nWall time: 2.99 ms\n"
     ]
    },
    {
     "output_type": "execute_result",
     "data": {
      "text/plain": [
       "{'departure location': [[43, 237], [251, 961]],\n",
       " 'departure station': [[27, 579], [586, 953]],\n",
       " 'departure platform': [[31, 587], [608, 967]],\n",
       " 'departure track': [[26, 773], [784, 973]],\n",
       " 'departure date': [[41, 532], [552, 956]],\n",
       " 'departure time': [[33, 322], [333, 972]],\n",
       " 'arrival location': [[30, 165], [178, 965]],\n",
       " 'arrival station': [[31, 565], [571, 968]],\n",
       " 'arrival platform': [[36, 453], [473, 963]],\n",
       " 'arrival track': [[35, 912], [924, 951]],\n",
       " 'class': [[39, 376], [396, 968]],\n",
       " 'duration': [[31, 686], [697, 974]],\n",
       " 'price': [[28, 78], [96, 971]],\n",
       " 'route': [[32, 929], [943, 955]],\n",
       " 'row': [[40, 885], [896, 968]],\n",
       " 'seat': [[26, 744], [765, 967]],\n",
       " 'train': [[46, 721], [741, 969]],\n",
       " 'type': [[30, 626], [641, 965]],\n",
       " 'wagon': [[48, 488], [513, 971]],\n",
       " 'zone': [[34, 354], [361, 973]]}"
      ]
     },
     "metadata": {},
     "execution_count": 1
    }
   ],
   "source": [
    "%%time\n",
    "\n",
    "import re\n",
    "\n",
    "with open('../inputs/16.txt') as file:\n",
    "    lines = file.read().splitlines()\n",
    "\n",
    "slines = '''\n",
    "'''.splitlines()\n",
    "\n",
    "defs = {}\n",
    "tick = []\n",
    "ticks = []\n",
    "mode = 1\n",
    "for l in lines:\n",
    "    if l=='':\n",
    "        mode = 0\n",
    "        continue\n",
    "    if mode == 0:\n",
    "        if l == 'your ticket:': mode = 2\n",
    "        elif l == 'nearby tickets:': mode = 3\n",
    "    elif mode == 1:\n",
    "        d,rs = l.split(': ')\n",
    "        defs[d] = [list(map(int, r.split('-'))) for r in rs.split(' or ')]\n",
    "    elif mode == 2:\n",
    "        tick = list(map(int, l.split(',')))\n",
    "    elif mode == 3:\n",
    "        ticks.append(list(map(int, l.split(','))))\n",
    "\n",
    "print(tick)\n",
    "print(ticks[:2], '...', len(ticks))\n",
    "\n",
    "defs\n"
   ]
  },
  {
   "cell_type": "code",
   "execution_count": 2,
   "metadata": {},
   "outputs": [
    {
     "output_type": "stream",
     "name": "stdout",
     "text": [
      "Wall time: 2.99 ms\n"
     ]
    },
    {
     "output_type": "execute_result",
     "data": {
      "text/plain": [
       "18227"
      ]
     },
     "metadata": {},
     "execution_count": 2
    }
   ],
   "source": [
    "%%time\n",
    "\n",
    "def isValidField(n, defs):\n",
    "    for d in defs.values():\n",
    "        if d[0][0]<=n<=d[0][1] or d[1][0]<=n<=d[1][1]:\n",
    "            return True\n",
    "    return False\n",
    "\n",
    "err = 0\n",
    "for t in ticks:\n",
    "    for n in t:\n",
    "        if not isValidField(n, defs):\n",
    "            err += n\n",
    "            break\n",
    "\n",
    "err\n"
   ]
  },
  {
   "cell_type": "code",
   "execution_count": 3,
   "metadata": {},
   "outputs": [
    {
     "output_type": "stream",
     "name": "stdout",
     "text": [
      "Wall time: 16 ms\n"
     ]
    },
    {
     "output_type": "execute_result",
     "data": {
      "text/plain": [
       "2355350878831"
      ]
     },
     "metadata": {},
     "execution_count": 3
    }
   ],
   "source": [
    "%%time\n",
    "\n",
    "def isValidTicket(t):\n",
    "    for n in t:\n",
    "        if not isValidField(n, defs):\n",
    "            return False\n",
    "    return True\n",
    "\n",
    "vTicks = list(filter(isValidTicket, ticks))\n",
    "\n",
    "candsMap = []\n",
    "\n",
    "for i in range(len(tick)):\n",
    "    cands = set(defs.keys())\n",
    "    for t in vTicks:\n",
    "        n = t[i]\n",
    "        for c in list(cands):\n",
    "            d = defs[c]\n",
    "            if d[0][0]<=n<=d[0][1] or d[1][0]<=n<=d[1][1]: continue\n",
    "            cands.remove(c)\n",
    "    candsMap.append(cands)\n",
    "\n",
    "def findNext(candsMap):\n",
    "    for i,cands in enumerate(candsMap):\n",
    "        if len(cands) is 1:\n",
    "            return i, list(cands)[0]\n",
    "    return None,None\n",
    "\n",
    "prod = 1\n",
    "while True:\n",
    "    i,name = findNext(candsMap)\n",
    "    if name is None: break\n",
    "    for cands in candsMap:\n",
    "        cands.discard(name)\n",
    "\n",
    "    if name.startswith('departure'):\n",
    "        prod *= tick[i]\n",
    "\n",
    "prod\n"
   ]
  }
 ]
}