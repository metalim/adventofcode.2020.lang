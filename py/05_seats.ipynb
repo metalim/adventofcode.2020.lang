{
 "nbformat": 4,
 "nbformat_minor": 2,
 "metadata": {
  "language_info": {
   "name": "python",
   "codemirror_mode": {
    "name": "ipython",
    "version": 3
   },
   "version": "3.9.0-final"
  },
  "orig_nbformat": 2,
  "file_extension": ".py",
  "mimetype": "text/x-python",
  "name": "python",
  "npconvert_exporter": "python",
  "pygments_lexer": "ipython3",
  "version": 3,
  "kernelspec": {
   "name": "python3",
   "display_name": "Python 3.9.0 64-bit",
   "metadata": {
    "interpreter": {
     "hash": "fb50a28a6949eb9d155aaf863d5b48c1761333e8ec64a40a331f301d808d6832"
    }
   }
  }
 },
 "cells": [
  {
   "cell_type": "code",
   "execution_count": 1,
   "metadata": {},
   "outputs": [],
   "source": [
    "import re\n",
    "\n",
    "with open('../inputs/05.txt') as file:\n",
    "    input = file.read()\n",
    "\n",
    "lines = input.rstrip().split('\\n')\n"
   ]
  },
  {
   "cell_type": "code",
   "execution_count": 2,
   "metadata": {},
   "outputs": [
    {
     "output_type": "stream",
     "name": "stdout",
     "text": [
      "Wall time: 997 µs\n"
     ]
    },
    {
     "output_type": "execute_result",
     "data": {
      "text/plain": [
       "858"
      ]
     },
     "metadata": {},
     "execution_count": 2
    }
   ],
   "source": [
    "%%time\n",
    "\n",
    "def getID(l):\n",
    "    id = 0\n",
    "    for c in l:\n",
    "        id*=2\n",
    "        if c=='B' or c=='R':\n",
    "            id+=1\n",
    "    return id\n",
    "\n",
    "maxID = 0\n",
    "for l in lines:\n",
    "    id = getID(l)\n",
    "    if maxID<id: maxID=id\n",
    "\n",
    "maxID\n"
   ]
  },
  {
   "cell_type": "code",
   "execution_count": 3,
   "metadata": {},
   "outputs": [
    {
     "output_type": "stream",
     "name": "stdout",
     "text": [
      "12 858\n557\nWall time: 1.99 ms\n"
     ]
    }
   ],
   "source": [
    "%%time\n",
    "\n",
    "minID = 999\n",
    "maxID = 0\n",
    "seats = set()\n",
    "for l in lines:\n",
    "    id = getID(l)\n",
    "    if maxID<id: maxID=id\n",
    "    if minID>id: minID=id\n",
    "    seats.add(id)\n",
    "\n",
    "print(minID,maxID)\n",
    "for i in range(minID,maxID+1):\n",
    "    if i not in seats:\n",
    "        print(i)\n"
   ]
  }
 ]
}